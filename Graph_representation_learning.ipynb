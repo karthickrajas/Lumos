{
  "nbformat": 4,
  "nbformat_minor": 0,
  "metadata": {
    "colab": {
      "provenance": [],
      "authorship_tag": "ABX9TyNg1RfaILkgMsrKY694VXeF",
      "include_colab_link": true
    },
    "kernelspec": {
      "name": "python3",
      "display_name": "Python 3"
    },
    "language_info": {
      "name": "python"
    }
  },
  "cells": [
    {
      "cell_type": "markdown",
      "metadata": {
        "id": "view-in-github",
        "colab_type": "text"
      },
      "source": [
        "<a href=\"https://colab.research.google.com/github/karthickrajas/Lumos/blob/master/Graph_representation_learning.ipynb\" target=\"_parent\"><img src=\"https://colab.research.google.com/assets/colab-badge.svg\" alt=\"Open In Colab\"/></a>"
      ]
    },
    {
      "cell_type": "code",
      "execution_count": 1,
      "metadata": {
        "colab": {
          "base_uri": "https://localhost:8080/"
        },
        "id": "sTc9WqbUYXj4",
        "outputId": "5993f43a-2e6d-4746-ab14-03fc6bc64c26"
      },
      "outputs": [
        {
          "output_type": "stream",
          "name": "stdout",
          "text": [
            "Looking in indexes: https://pypi.org/simple, https://us-python.pkg.dev/colab-wheels/public/simple/\n",
            "Requirement already satisfied: numpy in /usr/local/lib/python3.8/dist-packages (1.21.6)\n",
            "Looking in indexes: https://pypi.org/simple, https://us-python.pkg.dev/colab-wheels/public/simple/\n",
            "Requirement already satisfied: tensorflow in /usr/local/lib/python3.8/dist-packages (2.11.0)\n",
            "Requirement already satisfied: termcolor>=1.1.0 in /usr/local/lib/python3.8/dist-packages (from tensorflow) (2.2.0)\n",
            "Requirement already satisfied: libclang>=13.0.0 in /usr/local/lib/python3.8/dist-packages (from tensorflow) (15.0.6.1)\n",
            "Requirement already satisfied: astunparse>=1.6.0 in /usr/local/lib/python3.8/dist-packages (from tensorflow) (1.6.3)\n",
            "Requirement already satisfied: tensorboard<2.12,>=2.11 in /usr/local/lib/python3.8/dist-packages (from tensorflow) (2.11.2)\n",
            "Requirement already satisfied: packaging in /usr/local/lib/python3.8/dist-packages (from tensorflow) (23.0)\n",
            "Requirement already satisfied: protobuf<3.20,>=3.9.2 in /usr/local/lib/python3.8/dist-packages (from tensorflow) (3.19.6)\n",
            "Requirement already satisfied: tensorflow-io-gcs-filesystem>=0.23.1 in /usr/local/lib/python3.8/dist-packages (from tensorflow) (0.30.0)\n",
            "Requirement already satisfied: numpy>=1.20 in /usr/local/lib/python3.8/dist-packages (from tensorflow) (1.21.6)\n",
            "Requirement already satisfied: six>=1.12.0 in /usr/local/lib/python3.8/dist-packages (from tensorflow) (1.15.0)\n",
            "Requirement already satisfied: typing-extensions>=3.6.6 in /usr/local/lib/python3.8/dist-packages (from tensorflow) (4.5.0)\n",
            "Requirement already satisfied: wrapt>=1.11.0 in /usr/local/lib/python3.8/dist-packages (from tensorflow) (1.14.1)\n",
            "Requirement already satisfied: h5py>=2.9.0 in /usr/local/lib/python3.8/dist-packages (from tensorflow) (3.1.0)\n",
            "Requirement already satisfied: setuptools in /usr/local/lib/python3.8/dist-packages (from tensorflow) (57.4.0)\n",
            "Requirement already satisfied: tensorflow-estimator<2.12,>=2.11.0 in /usr/local/lib/python3.8/dist-packages (from tensorflow) (2.11.0)\n",
            "Requirement already satisfied: google-pasta>=0.1.1 in /usr/local/lib/python3.8/dist-packages (from tensorflow) (0.2.0)\n",
            "Requirement already satisfied: opt-einsum>=2.3.2 in /usr/local/lib/python3.8/dist-packages (from tensorflow) (3.3.0)\n",
            "Requirement already satisfied: flatbuffers>=2.0 in /usr/local/lib/python3.8/dist-packages (from tensorflow) (23.1.21)\n",
            "Requirement already satisfied: grpcio<2.0,>=1.24.3 in /usr/local/lib/python3.8/dist-packages (from tensorflow) (1.51.1)\n",
            "Requirement already satisfied: gast<=0.4.0,>=0.2.1 in /usr/local/lib/python3.8/dist-packages (from tensorflow) (0.4.0)\n",
            "Requirement already satisfied: keras<2.12,>=2.11.0 in /usr/local/lib/python3.8/dist-packages (from tensorflow) (2.11.0)\n",
            "Requirement already satisfied: absl-py>=1.0.0 in /usr/local/lib/python3.8/dist-packages (from tensorflow) (1.4.0)\n",
            "Requirement already satisfied: wheel<1.0,>=0.23.0 in /usr/local/lib/python3.8/dist-packages (from astunparse>=1.6.0->tensorflow) (0.38.4)\n",
            "Requirement already satisfied: requests<3,>=2.21.0 in /usr/local/lib/python3.8/dist-packages (from tensorboard<2.12,>=2.11->tensorflow) (2.25.1)\n",
            "Requirement already satisfied: google-auth<3,>=1.6.3 in /usr/local/lib/python3.8/dist-packages (from tensorboard<2.12,>=2.11->tensorflow) (2.16.0)\n",
            "Requirement already satisfied: werkzeug>=1.0.1 in /usr/local/lib/python3.8/dist-packages (from tensorboard<2.12,>=2.11->tensorflow) (1.0.1)\n",
            "Requirement already satisfied: markdown>=2.6.8 in /usr/local/lib/python3.8/dist-packages (from tensorboard<2.12,>=2.11->tensorflow) (3.4.1)\n",
            "Requirement already satisfied: tensorboard-plugin-wit>=1.6.0 in /usr/local/lib/python3.8/dist-packages (from tensorboard<2.12,>=2.11->tensorflow) (1.8.1)\n",
            "Requirement already satisfied: google-auth-oauthlib<0.5,>=0.4.1 in /usr/local/lib/python3.8/dist-packages (from tensorboard<2.12,>=2.11->tensorflow) (0.4.6)\n",
            "Requirement already satisfied: tensorboard-data-server<0.7.0,>=0.6.0 in /usr/local/lib/python3.8/dist-packages (from tensorboard<2.12,>=2.11->tensorflow) (0.6.1)\n",
            "Requirement already satisfied: pyasn1-modules>=0.2.1 in /usr/local/lib/python3.8/dist-packages (from google-auth<3,>=1.6.3->tensorboard<2.12,>=2.11->tensorflow) (0.2.8)\n",
            "Requirement already satisfied: rsa<5,>=3.1.4 in /usr/local/lib/python3.8/dist-packages (from google-auth<3,>=1.6.3->tensorboard<2.12,>=2.11->tensorflow) (4.9)\n",
            "Requirement already satisfied: cachetools<6.0,>=2.0.0 in /usr/local/lib/python3.8/dist-packages (from google-auth<3,>=1.6.3->tensorboard<2.12,>=2.11->tensorflow) (5.3.0)\n",
            "Requirement already satisfied: requests-oauthlib>=0.7.0 in /usr/local/lib/python3.8/dist-packages (from google-auth-oauthlib<0.5,>=0.4.1->tensorboard<2.12,>=2.11->tensorflow) (1.3.1)\n",
            "Requirement already satisfied: importlib-metadata>=4.4 in /usr/local/lib/python3.8/dist-packages (from markdown>=2.6.8->tensorboard<2.12,>=2.11->tensorflow) (6.0.0)\n",
            "Requirement already satisfied: urllib3<1.27,>=1.21.1 in /usr/local/lib/python3.8/dist-packages (from requests<3,>=2.21.0->tensorboard<2.12,>=2.11->tensorflow) (1.24.3)\n",
            "Requirement already satisfied: chardet<5,>=3.0.2 in /usr/local/lib/python3.8/dist-packages (from requests<3,>=2.21.0->tensorboard<2.12,>=2.11->tensorflow) (4.0.0)\n",
            "Requirement already satisfied: idna<3,>=2.5 in /usr/local/lib/python3.8/dist-packages (from requests<3,>=2.21.0->tensorboard<2.12,>=2.11->tensorflow) (2.10)\n",
            "Requirement already satisfied: certifi>=2017.4.17 in /usr/local/lib/python3.8/dist-packages (from requests<3,>=2.21.0->tensorboard<2.12,>=2.11->tensorflow) (2022.12.7)\n",
            "Requirement already satisfied: zipp>=0.5 in /usr/local/lib/python3.8/dist-packages (from importlib-metadata>=4.4->markdown>=2.6.8->tensorboard<2.12,>=2.11->tensorflow) (3.13.0)\n",
            "Requirement already satisfied: pyasn1<0.5.0,>=0.4.6 in /usr/local/lib/python3.8/dist-packages (from pyasn1-modules>=0.2.1->google-auth<3,>=1.6.3->tensorboard<2.12,>=2.11->tensorflow) (0.4.8)\n",
            "Requirement already satisfied: oauthlib>=3.0.0 in /usr/local/lib/python3.8/dist-packages (from requests-oauthlib>=0.7.0->google-auth-oauthlib<0.5,>=0.4.1->tensorboard<2.12,>=2.11->tensorflow) (3.2.2)\n",
            "Looking in indexes: https://pypi.org/simple, https://us-python.pkg.dev/colab-wheels/public/simple/\n",
            "Requirement already satisfied: spektral in /usr/local/lib/python3.8/dist-packages (1.2.0)\n",
            "Requirement already satisfied: tqdm in /usr/local/lib/python3.8/dist-packages (from spektral) (4.64.1)\n",
            "Requirement already satisfied: requests in /usr/local/lib/python3.8/dist-packages (from spektral) (2.25.1)\n",
            "Requirement already satisfied: scikit-learn in /usr/local/lib/python3.8/dist-packages (from spektral) (1.0.2)\n",
            "Requirement already satisfied: scipy in /usr/local/lib/python3.8/dist-packages (from spektral) (1.10.0)\n",
            "Requirement already satisfied: numpy in /usr/local/lib/python3.8/dist-packages (from spektral) (1.21.6)\n",
            "Requirement already satisfied: networkx in /usr/local/lib/python3.8/dist-packages (from spektral) (3.0)\n",
            "Requirement already satisfied: lxml in /usr/local/lib/python3.8/dist-packages (from spektral) (4.9.2)\n",
            "Requirement already satisfied: pandas in /usr/local/lib/python3.8/dist-packages (from spektral) (1.3.5)\n",
            "Requirement already satisfied: joblib in /usr/local/lib/python3.8/dist-packages (from spektral) (1.2.0)\n",
            "Requirement already satisfied: tensorflow>=2.2.0 in /usr/local/lib/python3.8/dist-packages (from spektral) (2.11.0)\n",
            "Requirement already satisfied: wrapt>=1.11.0 in /usr/local/lib/python3.8/dist-packages (from tensorflow>=2.2.0->spektral) (1.14.1)\n",
            "Requirement already satisfied: protobuf<3.20,>=3.9.2 in /usr/local/lib/python3.8/dist-packages (from tensorflow>=2.2.0->spektral) (3.19.6)\n",
            "Requirement already satisfied: flatbuffers>=2.0 in /usr/local/lib/python3.8/dist-packages (from tensorflow>=2.2.0->spektral) (23.1.21)\n",
            "Requirement already satisfied: keras<2.12,>=2.11.0 in /usr/local/lib/python3.8/dist-packages (from tensorflow>=2.2.0->spektral) (2.11.0)\n",
            "Requirement already satisfied: h5py>=2.9.0 in /usr/local/lib/python3.8/dist-packages (from tensorflow>=2.2.0->spektral) (3.1.0)\n",
            "Requirement already satisfied: google-pasta>=0.1.1 in /usr/local/lib/python3.8/dist-packages (from tensorflow>=2.2.0->spektral) (0.2.0)\n",
            "Requirement already satisfied: tensorflow-estimator<2.12,>=2.11.0 in /usr/local/lib/python3.8/dist-packages (from tensorflow>=2.2.0->spektral) (2.11.0)\n",
            "Requirement already satisfied: libclang>=13.0.0 in /usr/local/lib/python3.8/dist-packages (from tensorflow>=2.2.0->spektral) (15.0.6.1)\n",
            "Requirement already satisfied: tensorflow-io-gcs-filesystem>=0.23.1 in /usr/local/lib/python3.8/dist-packages (from tensorflow>=2.2.0->spektral) (0.30.0)\n",
            "Requirement already satisfied: absl-py>=1.0.0 in /usr/local/lib/python3.8/dist-packages (from tensorflow>=2.2.0->spektral) (1.4.0)\n",
            "Requirement already satisfied: astunparse>=1.6.0 in /usr/local/lib/python3.8/dist-packages (from tensorflow>=2.2.0->spektral) (1.6.3)\n",
            "Requirement already satisfied: setuptools in /usr/local/lib/python3.8/dist-packages (from tensorflow>=2.2.0->spektral) (57.4.0)\n",
            "Requirement already satisfied: termcolor>=1.1.0 in /usr/local/lib/python3.8/dist-packages (from tensorflow>=2.2.0->spektral) (2.2.0)\n",
            "Requirement already satisfied: grpcio<2.0,>=1.24.3 in /usr/local/lib/python3.8/dist-packages (from tensorflow>=2.2.0->spektral) (1.51.1)\n",
            "Requirement already satisfied: tensorboard<2.12,>=2.11 in /usr/local/lib/python3.8/dist-packages (from tensorflow>=2.2.0->spektral) (2.11.2)\n",
            "Requirement already satisfied: gast<=0.4.0,>=0.2.1 in /usr/local/lib/python3.8/dist-packages (from tensorflow>=2.2.0->spektral) (0.4.0)\n",
            "Requirement already satisfied: six>=1.12.0 in /usr/local/lib/python3.8/dist-packages (from tensorflow>=2.2.0->spektral) (1.15.0)\n",
            "Requirement already satisfied: packaging in /usr/local/lib/python3.8/dist-packages (from tensorflow>=2.2.0->spektral) (23.0)\n",
            "Requirement already satisfied: opt-einsum>=2.3.2 in /usr/local/lib/python3.8/dist-packages (from tensorflow>=2.2.0->spektral) (3.3.0)\n",
            "Requirement already satisfied: typing-extensions>=3.6.6 in /usr/local/lib/python3.8/dist-packages (from tensorflow>=2.2.0->spektral) (4.5.0)\n",
            "Requirement already satisfied: pytz>=2017.3 in /usr/local/lib/python3.8/dist-packages (from pandas->spektral) (2022.7.1)\n",
            "Requirement already satisfied: python-dateutil>=2.7.3 in /usr/local/lib/python3.8/dist-packages (from pandas->spektral) (2.8.2)\n",
            "Requirement already satisfied: certifi>=2017.4.17 in /usr/local/lib/python3.8/dist-packages (from requests->spektral) (2022.12.7)\n",
            "Requirement already satisfied: urllib3<1.27,>=1.21.1 in /usr/local/lib/python3.8/dist-packages (from requests->spektral) (1.24.3)\n",
            "Requirement already satisfied: chardet<5,>=3.0.2 in /usr/local/lib/python3.8/dist-packages (from requests->spektral) (4.0.0)\n",
            "Requirement already satisfied: idna<3,>=2.5 in /usr/local/lib/python3.8/dist-packages (from requests->spektral) (2.10)\n",
            "Requirement already satisfied: threadpoolctl>=2.0.0 in /usr/local/lib/python3.8/dist-packages (from scikit-learn->spektral) (3.1.0)\n",
            "Requirement already satisfied: wheel<1.0,>=0.23.0 in /usr/local/lib/python3.8/dist-packages (from astunparse>=1.6.0->tensorflow>=2.2.0->spektral) (0.38.4)\n",
            "Requirement already satisfied: tensorboard-plugin-wit>=1.6.0 in /usr/local/lib/python3.8/dist-packages (from tensorboard<2.12,>=2.11->tensorflow>=2.2.0->spektral) (1.8.1)\n",
            "Requirement already satisfied: google-auth<3,>=1.6.3 in /usr/local/lib/python3.8/dist-packages (from tensorboard<2.12,>=2.11->tensorflow>=2.2.0->spektral) (2.16.0)\n",
            "Requirement already satisfied: werkzeug>=1.0.1 in /usr/local/lib/python3.8/dist-packages (from tensorboard<2.12,>=2.11->tensorflow>=2.2.0->spektral) (1.0.1)\n",
            "Requirement already satisfied: tensorboard-data-server<0.7.0,>=0.6.0 in /usr/local/lib/python3.8/dist-packages (from tensorboard<2.12,>=2.11->tensorflow>=2.2.0->spektral) (0.6.1)\n",
            "Requirement already satisfied: google-auth-oauthlib<0.5,>=0.4.1 in /usr/local/lib/python3.8/dist-packages (from tensorboard<2.12,>=2.11->tensorflow>=2.2.0->spektral) (0.4.6)\n",
            "Requirement already satisfied: markdown>=2.6.8 in /usr/local/lib/python3.8/dist-packages (from tensorboard<2.12,>=2.11->tensorflow>=2.2.0->spektral) (3.4.1)\n",
            "Requirement already satisfied: rsa<5,>=3.1.4 in /usr/local/lib/python3.8/dist-packages (from google-auth<3,>=1.6.3->tensorboard<2.12,>=2.11->tensorflow>=2.2.0->spektral) (4.9)\n",
            "Requirement already satisfied: pyasn1-modules>=0.2.1 in /usr/local/lib/python3.8/dist-packages (from google-auth<3,>=1.6.3->tensorboard<2.12,>=2.11->tensorflow>=2.2.0->spektral) (0.2.8)\n",
            "Requirement already satisfied: cachetools<6.0,>=2.0.0 in /usr/local/lib/python3.8/dist-packages (from google-auth<3,>=1.6.3->tensorboard<2.12,>=2.11->tensorflow>=2.2.0->spektral) (5.3.0)\n",
            "Requirement already satisfied: requests-oauthlib>=0.7.0 in /usr/local/lib/python3.8/dist-packages (from google-auth-oauthlib<0.5,>=0.4.1->tensorboard<2.12,>=2.11->tensorflow>=2.2.0->spektral) (1.3.1)\n",
            "Requirement already satisfied: importlib-metadata>=4.4 in /usr/local/lib/python3.8/dist-packages (from markdown>=2.6.8->tensorboard<2.12,>=2.11->tensorflow>=2.2.0->spektral) (6.0.0)\n",
            "Requirement already satisfied: zipp>=0.5 in /usr/local/lib/python3.8/dist-packages (from importlib-metadata>=4.4->markdown>=2.6.8->tensorboard<2.12,>=2.11->tensorflow>=2.2.0->spektral) (3.13.0)\n",
            "Requirement already satisfied: pyasn1<0.5.0,>=0.4.6 in /usr/local/lib/python3.8/dist-packages (from pyasn1-modules>=0.2.1->google-auth<3,>=1.6.3->tensorboard<2.12,>=2.11->tensorflow>=2.2.0->spektral) (0.4.8)\n",
            "Requirement already satisfied: oauthlib>=3.0.0 in /usr/local/lib/python3.8/dist-packages (from requests-oauthlib>=0.7.0->google-auth-oauthlib<0.5,>=0.4.1->tensorboard<2.12,>=2.11->tensorflow>=2.2.0->spektral) (3.2.2)\n"
          ]
        }
      ],
      "source": [
        "!pip install numpy\n",
        "!pip install tensorflow\n",
        "!pip install spektral\n",
        "!!pip install --user scipy==1.8.1\n",
        "\n",
        "\n",
        "\n",
        "import numpy as np\n",
        "import tensorflow as tf\n",
        "import spektral\n",
        "# import spacy "
      ]
    },
    {
      "cell_type": "code",
      "source": [
        "cora_dataset = spektral.datasets.citation.Citation(name='cora')\n",
        "test_mask = cora_dataset.mask_te\n",
        "train_mask = cora_dataset.mask_tr\n",
        "val_mask = cora_dataset.mask_va\n",
        "graph = cora_dataset.graphs[0]\n",
        "features = graph.x\n",
        "adj = graph.a\n",
        "labels = graph.y"
      ],
      "metadata": {
        "colab": {
          "base_uri": "https://localhost:8080/"
        },
        "id": "jVghS3FxYjt4",
        "outputId": "dd1f37c4-f9c0-40c6-900e-a6b064b45050"
      },
      "execution_count": 12,
      "outputs": [
        {
          "output_type": "stream",
          "name": "stderr",
          "text": [
            "/usr/local/lib/python3.8/dist-packages/scipy/sparse/_index.py:146: SparseEfficiencyWarning: Changing the sparsity structure of a csr_matrix is expensive. lil_matrix is more efficient.\n",
            "  self._set_arrayXarray(i, j, x)\n"
          ]
        }
      ]
    },
    {
      "cell_type": "code",
      "source": [
        "adj = adj.todense()+np.eye(adj.shape[0])\n",
        "adj = adj.astype('float32')\n",
        "\n",
        "print(features.shape, '\\n', adj.shape, '\\n', labels.shape)"
      ],
      "metadata": {
        "colab": {
          "base_uri": "https://localhost:8080/"
        },
        "id": "fsgZihtfiMzB",
        "outputId": "027f4e72-c4f0-4a31-abf5-f3b78386263b"
      },
      "execution_count": 13,
      "outputs": [
        {
          "output_type": "stream",
          "name": "stdout",
          "text": [
            "(2708, 1433) \n",
            " (2708, 2708) \n",
            " (2708, 7)\n"
          ]
        }
      ]
    },
    {
      "cell_type": "code",
      "source": [
        "print(np.sum(train_mask)), print(np.sum(val_mask)), print(np.sum(test_mask))"
      ],
      "metadata": {
        "colab": {
          "base_uri": "https://localhost:8080/"
        },
        "id": "aXaVOQUHinOM",
        "outputId": "cb73c6cc-adf2-4ce7-8e4a-514d9507e9f2"
      },
      "execution_count": 14,
      "outputs": [
        {
          "output_type": "stream",
          "name": "stdout",
          "text": [
            "140\n",
            "500\n",
            "1000\n"
          ]
        },
        {
          "output_type": "execute_result",
          "data": {
            "text/plain": [
              "(None, None, None)"
            ]
          },
          "metadata": {},
          "execution_count": 14
        }
      ]
    },
    {
      "cell_type": "code",
      "source": [
        "def masked_softmax_cross_entropy(logits, labels, mask):\n",
        "  loss = tf.nn.softmax_cross_entropy_with_logits(logits =logits, labels = labels)\n",
        "  mask = tf.cast(mask, dtype=tf.float32)\n",
        "  mask /= tf.reduce_mean(mask)\n",
        "  loss *= mask\n",
        "  return tf.reduce_mean(loss)\n",
        "\n",
        "def masked_accuracy(logits, labels, mask):\n",
        "  correct_prediction = tf.equal(tf.argmax(logits, 1), tf.argmax(labels, 1))\n",
        "  accuracy_all = tf.cast(correct_prediction, tf.float32)\n",
        "  mask = tf.cast(mask, dtype= tf.float32)\n",
        "  mask /= tf.reduce_mean(mask)\n",
        "  accuracy_all *= mask\n",
        "  return tf.reduce_mean(accuracy_all)\n"
      ],
      "metadata": {
        "id": "VGq6gGidi2La"
      },
      "execution_count": 16,
      "outputs": []
    },
    {
      "cell_type": "code",
      "source": [
        "def gnn(fts, adj, transform, activation):\n",
        "  seq_fts = transform(fts)\n",
        "  ret_fts = tf.matmul(adj, seq_fts)\n",
        "  return activation(ret_fts)"
      ],
      "metadata": {
        "id": "VoFWTeW6ja3E"
      },
      "execution_count": 17,
      "outputs": []
    },
    {
      "cell_type": "code",
      "source": [
        "def train_cora(fts, adj, gnn_fn, units , epochs, lr):\n",
        "  lyr_1 = tf.keras.layers.Dense(units)\n",
        "  lyr_2 = tf.keras.layers.Dense(7)\n",
        "\n",
        "  def cora_gnn(fts, adj):\n",
        "    hidden = gnn_fn(fts, adj, lyr_1, tf.nn.relu)\n",
        "    logits = gnn_fn(hidden, adj, lyr_2, tf.identity)\n",
        "    return logits\n",
        "\n",
        "  optimizer = tf.keras.optimizers.Adam(learning_rate=lr)\n",
        "\n",
        "  best_accuracy = 0.0\n",
        "  for ep in range(epochs+1):\n",
        "    with tf.GradientTape() as t:\n",
        "      logits = cora_gnn(fts, adj)\n",
        "      loss = masked_softmax_cross_entropy(logits, labels, train_mask)\n",
        "    \n",
        "    variables = t.watched_variables()\n",
        "    grads = t.gradient(loss, variables)\n",
        "    optimizer.apply_gradients(zip(grads, variables))\n",
        "\n",
        "    logits = cora_gnn(fts, adj)\n",
        "    val_accuracy = masked_accuracy(logits, labels, val_mask)\n",
        "    test_accuracy = masked_accuracy(logits, labels, test_mask)\n",
        "\n",
        "    if val_accuracy > best_accuracy:\n",
        "      best_accuracy = val_accuracy\n",
        "      print('Epoch', ep, '| Training loss: ',loss.numpy(), '| Val accuracy', val_accuracy.numpy(),\n",
        "            '|Test accuracy:', test_accuracy.numpy())\n"
      ],
      "metadata": {
        "id": "nO1lg_7kkbUw"
      },
      "execution_count": 20,
      "outputs": []
    },
    {
      "cell_type": "code",
      "source": [
        "train_cora(features, adj, gnn, 32, 200, 0.01)"
      ],
      "metadata": {
        "colab": {
          "base_uri": "https://localhost:8080/"
        },
        "id": "g9njTGDbmFVV",
        "outputId": "03002110-c63b-4fa7-8aaa-2d9e5d1161a2"
      },
      "execution_count": 21,
      "outputs": [
        {
          "output_type": "stream",
          "name": "stdout",
          "text": [
            "Epoch 0 | Training loss:  5.831041 | Val accuracy 0.326 |Test accuracy: 0.30200002\n",
            "Epoch 1 | Training loss:  4.0670323 | Val accuracy 0.36799997 |Test accuracy: 0.37\n",
            "Epoch 2 | Training loss:  3.065825 | Val accuracy 0.39 |Test accuracy: 0.39399996\n",
            "Epoch 4 | Training loss:  1.4544667 | Val accuracy 0.52 |Test accuracy: 0.516\n",
            "Epoch 5 | Training loss:  0.90851533 | Val accuracy 0.638 |Test accuracy: 0.632\n",
            "Epoch 6 | Training loss:  0.7184535 | Val accuracy 0.67800003 |Test accuracy: 0.69\n",
            "Epoch 7 | Training loss:  0.5841163 | Val accuracy 0.704 |Test accuracy: 0.702\n",
            "Epoch 8 | Training loss:  0.5076722 | Val accuracy 0.74399996 |Test accuracy: 0.72499996\n",
            "Epoch 9 | Training loss:  0.40341625 | Val accuracy 0.7559999 |Test accuracy: 0.73399997\n",
            "Epoch 46 | Training loss:  0.06302718 | Val accuracy 0.75799996 |Test accuracy: 0.76100004\n",
            "Epoch 62 | Training loss:  0.008255297 | Val accuracy 0.758 |Test accuracy: 0.7569999\n",
            "Epoch 63 | Training loss:  0.007970731 | Val accuracy 0.76000005 |Test accuracy: 0.7569999\n",
            "Epoch 66 | Training loss:  0.007237854 | Val accuracy 0.76199996 |Test accuracy: 0.757\n",
            "Epoch 67 | Training loss:  0.0070246933 | Val accuracy 0.76399994 |Test accuracy: 0.757\n",
            "Epoch 82 | Training loss:  0.004793279 | Val accuracy 0.766 |Test accuracy: 0.762\n",
            "Epoch 83 | Training loss:  0.004688388 | Val accuracy 0.76799995 |Test accuracy: 0.762\n",
            "Epoch 96 | Training loss:  0.0036167018 | Val accuracy 0.77 |Test accuracy: 0.76400006\n",
            "Epoch 149 | Training loss:  0.0016714808 | Val accuracy 0.77199996 |Test accuracy: 0.763\n"
          ]
        }
      ]
    },
    {
      "cell_type": "code",
      "source": [
        "train_cora(features, tf.eye(adj.shape[0]), gnn, 32, 200, 0.01)"
      ],
      "metadata": {
        "colab": {
          "base_uri": "https://localhost:8080/"
        },
        "id": "I1UwyhBRmPnz",
        "outputId": "1a0a377f-414c-4085-8562-c60200dba85b"
      },
      "execution_count": 22,
      "outputs": [
        {
          "output_type": "stream",
          "name": "stdout",
          "text": [
            "Epoch 0 | Training loss:  1.9562379 | Val accuracy 0.278 |Test accuracy: 0.248\n",
            "Epoch 1 | Training loss:  1.6789219 | Val accuracy 0.39599997 |Test accuracy: 0.349\n",
            "Epoch 2 | Training loss:  1.4422939 | Val accuracy 0.44800004 |Test accuracy: 0.40199998\n",
            "Epoch 3 | Training loss:  1.1920819 | Val accuracy 0.478 |Test accuracy: 0.441\n",
            "Epoch 4 | Training loss:  0.94192517 | Val accuracy 0.494 |Test accuracy: 0.465\n",
            "Epoch 5 | Training loss:  0.7149641 | Val accuracy 0.50200003 |Test accuracy: 0.48299995\n",
            "Epoch 6 | Training loss:  0.52641535 | Val accuracy 0.52199996 |Test accuracy: 0.49699998\n",
            "Epoch 8 | Training loss:  0.2781419 | Val accuracy 0.534 |Test accuracy: 0.506\n",
            "Epoch 9 | Training loss:  0.2055399 | Val accuracy 0.546 |Test accuracy: 0.516\n",
            "Epoch 10 | Training loss:  0.1551987 | Val accuracy 0.548 |Test accuracy: 0.5149999\n",
            "Epoch 11 | Training loss:  0.11979565 | Val accuracy 0.54999995 |Test accuracy: 0.51799995\n",
            "Epoch 14 | Training loss:  0.060455266 | Val accuracy 0.55399996 |Test accuracy: 0.51799995\n"
          ]
        }
      ]
    },
    {
      "cell_type": "code",
      "source": [
        "deg = tf.reduce_sum(adj, axis=-1)\n",
        "train_cora(features, adj/deg, gnn, 32, 200, 0.01)"
      ],
      "metadata": {
        "colab": {
          "base_uri": "https://localhost:8080/"
        },
        "id": "SnxeVu5WmwMf",
        "outputId": "f6e8dde8-387d-4206-86bd-eca6605a3db4"
      },
      "execution_count": 23,
      "outputs": [
        {
          "output_type": "stream",
          "name": "stdout",
          "text": [
            "Epoch 0 | Training loss:  1.9493388 | Val accuracy 0.364 |Test accuracy: 0.39599997\n",
            "Epoch 1 | Training loss:  1.7641393 | Val accuracy 0.52 |Test accuracy: 0.548\n",
            "Epoch 2 | Training loss:  1.5430015 | Val accuracy 0.60400003 |Test accuracy: 0.62700003\n",
            "Epoch 3 | Training loss:  1.3089193 | Val accuracy 0.664 |Test accuracy: 0.70699996\n",
            "Epoch 4 | Training loss:  1.0944315 | Val accuracy 0.716 |Test accuracy: 0.749\n",
            "Epoch 5 | Training loss:  0.90117234 | Val accuracy 0.75200003 |Test accuracy: 0.78\n",
            "Epoch 6 | Training loss:  0.7308053 | Val accuracy 0.76000005 |Test accuracy: 0.79199994\n",
            "Epoch 7 | Training loss:  0.58567417 | Val accuracy 0.77199996 |Test accuracy: 0.79399997\n",
            "Epoch 8 | Training loss:  0.46526882 | Val accuracy 0.784 |Test accuracy: 0.79599994\n"
          ]
        }
      ]
    },
    {
      "cell_type": "code",
      "source": [
        "norm_deg = tf.linalg.diag(1.0 / tf.sqrt(deg))\n",
        "norm_adj = tf.matmul(norm_deg, tf.matmul(adj, norm_deg))\n",
        "train_cora(features, norm_adj, gnn, 32, 200, 0.01)"
      ],
      "metadata": {
        "colab": {
          "base_uri": "https://localhost:8080/"
        },
        "id": "75I1fkEUnDwd",
        "outputId": "9f18d77a-b7d7-499e-f7f4-6e52b5e074a3"
      },
      "execution_count": 26,
      "outputs": [
        {
          "output_type": "stream",
          "name": "stdout",
          "text": [
            "Epoch 0 | Training loss:  1.9500102 | Val accuracy 0.42999998 |Test accuracy: 0.47\n",
            "Epoch 1 | Training loss:  1.7713166 | Val accuracy 0.54599994 |Test accuracy: 0.6\n",
            "Epoch 2 | Training loss:  1.5699306 | Val accuracy 0.61399996 |Test accuracy: 0.641\n",
            "Epoch 3 | Training loss:  1.350128 | Val accuracy 0.662 |Test accuracy: 0.68299997\n",
            "Epoch 4 | Training loss:  1.1366434 | Val accuracy 0.698 |Test accuracy: 0.72999996\n",
            "Epoch 5 | Training loss:  0.93799603 | Val accuracy 0.728 |Test accuracy: 0.7569999\n",
            "Epoch 6 | Training loss:  0.75983226 | Val accuracy 0.74599993 |Test accuracy: 0.77199996\n",
            "Epoch 7 | Training loss:  0.60448736 | Val accuracy 0.76799995 |Test accuracy: 0.7839999\n",
            "Epoch 8 | Training loss:  0.47458473 | Val accuracy 0.7799999 |Test accuracy: 0.79599994\n",
            "Epoch 9 | Training loss:  0.36880937 | Val accuracy 0.78 |Test accuracy: 0.80099994\n",
            "Epoch 10 | Training loss:  0.2846635 | Val accuracy 0.782 |Test accuracy: 0.80399996\n",
            "Epoch 12 | Training loss:  0.16854568 | Val accuracy 0.784 |Test accuracy: 0.80399996\n",
            "Epoch 14 | Training loss:  0.10055001 | Val accuracy 0.7879999 |Test accuracy: 0.80099994\n"
          ]
        }
      ]
    },
    {
      "cell_type": "code",
      "source": [],
      "metadata": {
        "id": "7XrvGB-6nNsN"
      },
      "execution_count": null,
      "outputs": []
    }
  ]
}